{
 "cells": [
  {
   "cell_type": "markdown",
   "metadata": {},
   "source": [
    "# LeetCode Practice"
   ]
  },
  {
   "cell_type": "markdown",
   "metadata": {},
   "source": [
    "### Q204"
   ]
  },
  {
   "cell_type": "code",
   "execution_count": 1,
   "metadata": {},
   "outputs": [
    {
     "name": "stdout",
     "output_type": "stream",
     "text": [
      "12\n",
      "[2, 3, 2, 3, 4, 4, 5, 2, 3, 4, 5, 6]\n"
     ]
    }
   ],
   "source": [
    "n=8\n",
    "l=[]\n",
    "if n<2:\n",
    "    print(0)\n",
    "elif n==2:\n",
    "    print(1)\n",
    "a=3\n",
    "while a < n:\n",
    "    for i in range(2, a):\n",
    "        if a%i != 0:\n",
    "            l.append(i)\n",
    "    a+=1\n",
    "    \n",
    "print(len(l))\n",
    "print(l)"
   ]
  },
  {
   "cell_type": "code",
   "execution_count": 2,
   "metadata": {},
   "outputs": [
    {
     "data": {
      "text/plain": [
       "'Prime number'"
      ]
     },
     "execution_count": 2,
     "metadata": {},
     "output_type": "execute_result"
    }
   ],
   "source": [
    "def IsPrime(n):\n",
    "    if n ==2:\n",
    "        return True\n",
    "    elif n<2 and n >=0:\n",
    "        return False\n",
    "    elif n<0:\n",
    "        return \"Pls give a positive number!\"\n",
    "    for i in range(2,n):\n",
    "        if n%i==0:\n",
    "            return \"Non-prime number\"\n",
    "            break\n",
    "    return \"Prime number\"\n",
    "\n",
    "IsPrime(3)"
   ]
  },
  {
   "cell_type": "code",
   "execution_count": 10,
   "metadata": {},
   "outputs": [
    {
     "name": "stdout",
     "output_type": "stream",
     "text": [
      "9 is not a prime number\n"
     ]
    }
   ],
   "source": [
    "num = 9\n",
    "  \n",
    "# If given number is greater than 1 \n",
    "if num > 1: \n",
    "      \n",
    "   # Iterate from 2 to n / 2  \n",
    "    for i in range(2, num): \n",
    "         \n",
    "       # If num is divisible by any number between  \n",
    "       # 2 and n / 2, it is not prime  \n",
    "        if (num % i) == 0: \n",
    "            print(num, \"is not a prime number\") \n",
    "            break\n",
    "    else: \n",
    "        print(num, \"is a prime number\") \n",
    "\n",
    "else: \n",
    "    print(num, \"is not a prime number\") "
   ]
  },
  {
   "cell_type": "code",
   "execution_count": null,
   "metadata": {},
   "outputs": [],
   "source": []
  },
  {
   "cell_type": "markdown",
   "metadata": {},
   "source": [
    "Q 233 Hard"
   ]
  },
  {
   "cell_type": "code",
   "execution_count": 30,
   "metadata": {},
   "outputs": [],
   "source": [
    "def countDigitOne(n: int) -> int:\n",
    "    count = 0\n",
    "    for i in range(n+1):\n",
    "        l  = [int(d) for d in str(i)]\n",
    "        count += l.count(1)\n",
    "    return count"
   ]
  },
  {
   "cell_type": "markdown",
   "metadata": {},
   "source": [
    "242. Valid Anagram"
   ]
  },
  {
   "cell_type": "code",
   "execution_count": 6,
   "metadata": {},
   "outputs": [
    {
     "data": {
      "text/plain": [
       "['d', 'e', 'h', 'l', 'l', 'l', 'o', 'o', 'r', 'w']"
      ]
     },
     "execution_count": 6,
     "metadata": {},
     "output_type": "execute_result"
    }
   ],
   "source": [
    "class Solution:\n",
    "    def isAnagram(self, s: str, t: str) -> bool:\n",
    "        if sorted(s) == sorted(t):\n",
    "            return True\n",
    "        return False"
   ]
  },
  {
   "cell_type": "markdown",
   "metadata": {},
   "source": [
    "258. Add Digits"
   ]
  },
  {
   "cell_type": "code",
   "execution_count": 8,
   "metadata": {},
   "outputs": [
    {
     "data": {
      "text/plain": [
       "19"
      ]
     },
     "execution_count": 8,
     "metadata": {},
     "output_type": "execute_result"
    }
   ],
   "source": [
    "l=[1,4,6,8]\n",
    "sum(l)"
   ]
  },
  {
   "cell_type": "code",
   "execution_count": 10,
   "metadata": {},
   "outputs": [
    {
     "data": {
      "text/plain": [
       "[5, 4, 9, 9]"
      ]
     },
     "execution_count": 10,
     "metadata": {},
     "output_type": "execute_result"
    }
   ],
   "source": [
    "n = 5499\n",
    "[int(i) for i in str(n)]"
   ]
  },
  {
   "cell_type": "code",
   "execution_count": null,
   "metadata": {},
   "outputs": [],
   "source": [
    "class Solution:\n",
    "    def addDigits(self, num: int) -> int:\n",
    "        while num >=10:\n",
    "            num = sum([int(i) for i in str(num)])\n",
    "        return num"
   ]
  },
  {
   "cell_type": "markdown",
   "metadata": {},
   "source": [
    "260. Single Number III\n",
    "Runtime: 6460 ms, faster than 5.04% of Python3 online submissions for Single Number III."
   ]
  },
  {
   "cell_type": "code",
   "execution_count": null,
   "metadata": {},
   "outputs": [],
   "source": [
    "class Solution:\n",
    "    def singleNumber(self, nums: List[int]) -> List[int]:\n",
    "        l=[]\n",
    "        for i in nums:\n",
    "            if nums.count(i)==1:\n",
    "                l.append(i)\n",
    "        return l"
   ]
  },
  {
   "cell_type": "code",
   "execution_count": null,
   "metadata": {},
   "outputs": [],
   "source": [
    "[c[0] for c in Counter(nums).items() if c[1] == 1]"
   ]
  },
  {
   "cell_type": "code",
   "execution_count": 13,
   "metadata": {},
   "outputs": [
    {
     "data": {
      "text/plain": [
       "dict_items([(0, 1), (1, 1), (3, 2), (5, 1), (8, 1)])"
      ]
     },
     "execution_count": 13,
     "metadata": {},
     "output_type": "execute_result"
    }
   ],
   "source": [
    "import collections\n",
    "collections.Counter([0,1,3,3,5,8]).items()"
   ]
  },
  {
   "cell_type": "code",
   "execution_count": null,
   "metadata": {},
   "outputs": [],
   "source": []
  },
  {
   "cell_type": "markdown",
   "metadata": {},
   "source": [
    "263. Ugly Number"
   ]
  },
  {
   "cell_type": "code",
   "execution_count": 25,
   "metadata": {},
   "outputs": [
    {
     "name": "stdout",
     "output_type": "stream",
     "text": [
      "not\n"
     ]
    }
   ],
   "source": [
    "if 4 and 5 and 9 not in [1,5,7,8]:\n",
    "    print(\"not\")\n",
    "else: print(\"Yes\")"
   ]
  },
  {
   "cell_type": "code",
   "execution_count": 28,
   "metadata": {},
   "outputs": [
    {
     "name": "stdout",
     "output_type": "stream",
     "text": [
      "0\n",
      "1\n"
     ]
    }
   ],
   "source": [
    "for i in range(int(5/2)):\n",
    "    print(i)"
   ]
  },
  {
   "cell_type": "code",
   "execution_count": 51,
   "metadata": {},
   "outputs": [
    {
     "data": {
      "text/plain": [
       "1"
      ]
     },
     "execution_count": 51,
     "metadata": {},
     "output_type": "execute_result"
    }
   ],
   "source": [
    "def test(num):\n",
    "    while num > 5:\n",
    "        for i in range(2,6):\n",
    "            if num %i ==0:\n",
    "                num = num/i\n",
    "                break\n",
    "        else:break\n",
    "    return num\n",
    "test(1)"
   ]
  },
  {
   "cell_type": "code",
   "execution_count": null,
   "metadata": {},
   "outputs": [],
   "source": [
    "class Solution:\n",
    "    def isUgly(self, num: int) -> bool:\n",
    "        if num<=0:\n",
    "            return False\n",
    "        while num >5:\n",
    "            for i in range(2,6):\n",
    "                if num %i ==0:\n",
    "                    num = num/i\n",
    "                    break\n",
    "            else:break\n",
    "        if num>5: return False\n",
    "        return True\n"
   ]
  },
  {
   "cell_type": "code",
   "execution_count": 50,
   "metadata": {},
   "outputs": [
    {
     "data": {
      "text/plain": [
       "1"
      ]
     },
     "execution_count": 50,
     "metadata": {},
     "output_type": "execute_result"
    }
   ],
   "source": [
    "int(5/3)"
   ]
  },
  {
   "cell_type": "code",
   "execution_count": null,
   "metadata": {},
   "outputs": [],
   "source": []
  },
  {
   "cell_type": "markdown",
   "metadata": {},
   "source": [
    "264. Ugly Number II"
   ]
  },
  {
   "cell_type": "code",
   "execution_count": 28,
   "metadata": {},
   "outputs": [],
   "source": [
    "a = b = 1"
   ]
  },
  {
   "cell_type": "code",
   "execution_count": 47,
   "metadata": {},
   "outputs": [
    {
     "data": {
      "text/plain": [
       "[1, 3]"
      ]
     },
     "execution_count": 47,
     "metadata": {},
     "output_type": "execute_result"
    }
   ],
   "source": [
    "l=[1]\n",
    "l=l+[3]\n",
    "l"
   ]
  },
  {
   "cell_type": "code",
   "execution_count": 43,
   "metadata": {},
   "outputs": [],
   "source": [
    "def nthUgly(n: int):\n",
    "    l=[1,2,3,4,5]\n",
    "    if n<=5:\n",
    "        return l[n-1]\n",
    "    num = result = l[-1]+1\n",
    "    while len(l) < n:\n",
    "        while result > 5:\n",
    "            for i in range(2,6):\n",
    "                if num %i ==0:\n",
    "                    result = num/i\n",
    "                    break\n",
    "            else:break\n",
    "        if result <= 5: \n",
    "            l.append(num)\n",
    "            num += 1\n",
    "            result = num\n",
    "        else: \n",
    "            num += 1\n",
    "            result = num\n",
    "    return l[-1]"
   ]
  },
  {
   "cell_type": "code",
   "execution_count": 54,
   "metadata": {},
   "outputs": [],
   "source": [
    "def nthUgly(n: int):\n",
    "    i2 = i3 = i5 = 0\n",
    "    l = [1]\n",
    "    while len(l)<n:\n",
    "        n2, n3, n5 = l[i2] * 2, l[i3] * 3, l[i5] * 5\n",
    "        l += [min(n2,n3,n5)]\n",
    "        if l[-1] == n2: i2+=1\n",
    "        if l[-1] == n3: i3 += 1\n",
    "        if l[-1] == n5: i5 += 1\n",
    "    return l[-1]"
   ]
  },
  {
   "cell_type": "code",
   "execution_count": 55,
   "metadata": {},
   "outputs": [
    {
     "data": {
      "text/plain": [
       "12"
      ]
     },
     "execution_count": 55,
     "metadata": {},
     "output_type": "execute_result"
    }
   ],
   "source": [
    "nthUgly(10)"
   ]
  },
  {
   "cell_type": "code",
   "execution_count": 56,
   "metadata": {},
   "outputs": [
    {
     "data": {
      "text/plain": [
       "5"
      ]
     },
     "execution_count": 56,
     "metadata": {},
     "output_type": "execute_result"
    }
   ],
   "source": [
    "nums=[0,1,3,5]\n",
    "max(nums)"
   ]
  },
  {
   "cell_type": "code",
   "execution_count": null,
   "metadata": {},
   "outputs": [],
   "source": []
  },
  {
   "cell_type": "markdown",
   "metadata": {},
   "source": [
    "268. Missing Number"
   ]
  },
  {
   "cell_type": "code",
   "execution_count": null,
   "metadata": {},
   "outputs": [],
   "source": [
    "class Solution:\n",
    "    def missingNumber(self, nums: List[int]) -> int:\n",
    "        for i in range(len(nums)+1):\n",
    "            if nums.count(i) == 0:\n",
    "                return i"
   ]
  },
  {
   "cell_type": "code",
   "execution_count": null,
   "metadata": {},
   "outputs": [],
   "source": []
  },
  {
   "cell_type": "markdown",
   "metadata": {},
   "source": [
    "273. Integer to English Words"
   ]
  },
  {
   "cell_type": "code",
   "execution_count": 58,
   "metadata": {},
   "outputs": [
    {
     "data": {
      "text/plain": [
       "3"
      ]
     },
     "execution_count": 58,
     "metadata": {},
     "output_type": "execute_result"
    }
   ],
   "source": [
    "n = 258\n",
    "len(str(n))"
   ]
  },
  {
   "cell_type": "code",
   "execution_count": 20,
   "metadata": {},
   "outputs": [],
   "source": [
    "def numberToWords(num: int) -> str:\n",
    "    u = {'0':\"\", '1':\"one\", '2':\"two\", '3':\"three\", '4':\"four\", '5':\"five\",\n",
    "         '6':\"six\", '7':\"seven\", '8':\"eight\", '9':\"nine\"}\n",
    "    t = {\"10\":\"ten\", \"11\":\"eleven\", \"12\":\"twelve\", \"13\":\"thirteen\", \n",
    "         \"14\":\"fourteen\", \"15\":\"fifteen\", \"16\":\"sixteen\", \"17\":\"seventeen\", \n",
    "         \"18\":\"eighteen\", \"19\":\"ninteen\"}\n",
    "    mult = {'2':\"twenty\", '3':\"thirty\", '4':\"forty\", '5':\"fifty\",\n",
    "            '6':\"sixty\", '7':\"seventy\", '8':\"eighty\", '9':\"ninety\"}\n",
    "    if num == 0:\n",
    "        return \"zero\"\n",
    "    elif num < 10:\n",
    "        return u[str(num)]\n",
    "    elif num >= 10 and num < 20:\n",
    "        return t[str(num)]\n",
    "    elif num>=20 and num < 100 and num % 10 == 0:\n",
    "        return mult[str(num)[0]]\n",
    "    elif num > 20 and num < 100 and num %10 != 0:\n",
    "        return mult[str(num)[0]]+' '+u[str(num)[1]]"
   ]
  },
  {
   "cell_type": "code",
   "execution_count": 21,
   "metadata": {},
   "outputs": [
    {
     "data": {
      "text/plain": [
       "'thirty one'"
      ]
     },
     "execution_count": 21,
     "metadata": {},
     "output_type": "execute_result"
    }
   ],
   "source": [
    "numberToWords(31)"
   ]
  },
  {
   "cell_type": "code",
   "execution_count": null,
   "metadata": {},
   "outputs": [],
   "source": []
  },
  {
   "cell_type": "markdown",
   "metadata": {},
   "source": [
    "274. H-Index"
   ]
  },
  {
   "cell_type": "code",
   "execution_count": 54,
   "metadata": {},
   "outputs": [],
   "source": [
    "def hIndex(citations) -> int:\n",
    "    if citations == []:\n",
    "        return 0\n",
    "    l = []\n",
    "    i=0\n",
    "    while i <= len(citations):\n",
    "        if len([elements for elements in citations if elements >= i]) >= i and len([elements for elements in citations if elements < i]) < i:\n",
    "            l = [i]\n",
    "            i+=1\n",
    "    if l == []:\n",
    "        return 0\n",
    "    else: return max(l)"
   ]
  },
  {
   "cell_type": "code",
   "execution_count": 1,
   "metadata": {},
   "outputs": [],
   "source": [
    "class Solution(object):\n",
    "    def hIndex(self, citations):\n",
    "        if len(citations) == 0:\n",
    "            return 0\n",
    "        \n",
    "        papers = [0]*(len(citations)+1)\n",
    "        for i in citations:\n",
    "            index = min(len(citations), i) #index is the citation number, papers[index] means at citation #index, how many papers do we have\n",
    "            papers[index] += 1\n",
    "        print(papers)\n",
    "        papersum = 0\n",
    "        for i in range(len(citations), -1, -1):\n",
    "            papersum += papers[i]\n",
    "            if papersum >= i:\n",
    "                return i\n",
    "        return 0"
   ]
  },
  {
   "cell_type": "markdown",
   "metadata": {},
   "source": [
    "278. First Bad Version"
   ]
  },
  {
   "cell_type": "code",
   "execution_count": null,
   "metadata": {},
   "outputs": [],
   "source": [
    "def firstBadValue(n):\n",
    "    i=0\n",
    "    while i <=n:\n",
    "        if isBadVersion(i) == True:\n",
    "            return i\n",
    "        i+=1"
   ]
  },
  {
   "cell_type": "code",
   "execution_count": null,
   "metadata": {},
   "outputs": [],
   "source": [
    "def firstBadValue(n):\n",
    "    l = 0\n",
    "    while l < n:\n",
    "        mid = l + (n-l)//2\n",
    "        if isBadVersion(mid) == False:\n",
    "            l = mid + 1\n",
    "        else: n = mid\n",
    "    return l"
   ]
  },
  {
   "cell_type": "code",
   "execution_count": null,
   "metadata": {},
   "outputs": [],
   "source": []
  },
  {
   "cell_type": "code",
   "execution_count": 56,
   "metadata": {},
   "outputs": [
    {
     "data": {
      "text/plain": [
       "0"
      ]
     },
     "execution_count": 56,
     "metadata": {},
     "output_type": "execute_result"
    }
   ],
   "source": [
    "(5-4)//2"
   ]
  },
  {
   "cell_type": "markdown",
   "metadata": {},
   "source": [
    "279. Perfect Squares"
   ]
  },
  {
   "cell_type": "code",
   "execution_count": null,
   "metadata": {},
   "outputs": [],
   "source": [
    "from collections import deque\n",
    "\n",
    "class Solution:\n",
    "    def numSquares(self, n: int) -> int:\n",
    "        squares = {k**2 for k in range(1, int(math.sqrt(n))+1)} # set\n",
    "        if n in squares: return 1\n",
    "        \n",
    "        q = deque([n, None])\n",
    "        count = 1 # output\n",
    "        while q:\n",
    "            cur = q.popleft()\n",
    "            if cur:\n",
    "                for num in squares:\n",
    "                    remainder = cur - num\n",
    "                    if remainder in squares: return count + 1\n",
    "                    q.append(remainder)\n",
    "            elif q: \n",
    "                q.append(None)\n",
    "                count += 1"
   ]
  },
  {
   "cell_type": "code",
   "execution_count": null,
   "metadata": {},
   "outputs": [],
   "source": []
  },
  {
   "cell_type": "code",
   "execution_count": null,
   "metadata": {},
   "outputs": [],
   "source": []
  }
 ],
 "metadata": {
  "kernelspec": {
   "display_name": "Python 3",
   "language": "python",
   "name": "python3"
  },
  "language_info": {
   "codemirror_mode": {
    "name": "ipython",
    "version": 3
   },
   "file_extension": ".py",
   "mimetype": "text/x-python",
   "name": "python",
   "nbconvert_exporter": "python",
   "pygments_lexer": "ipython3",
   "version": "3.8.3"
  }
 },
 "nbformat": 4,
 "nbformat_minor": 4
}
