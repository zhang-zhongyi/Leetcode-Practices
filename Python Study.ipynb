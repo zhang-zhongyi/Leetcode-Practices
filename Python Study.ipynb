{
 "cells": [
  {
   "cell_type": "markdown",
   "metadata": {},
   "source": [
    "# Computer Science Study Notes\n",
    "Troy"
   ]
  },
  {
   "cell_type": "markdown",
   "metadata": {},
   "source": [
    "------------------------------------------------"
   ]
  },
  {
   "cell_type": "markdown",
   "metadata": {},
   "source": [
    "#### Why is it good to use data structures in the main?     \n",
    "##### They can reduce the running time of applications!    \n",
    "Not related to memory.     \n",
    "Doesn't have to be easy to implement.     \n",
    "\n",
    "\n",
    "#### What is the difference between data structures(int, float, string, list, dictionary, etc.) and abstract data types(stacks, queues, etc.)?      \n",
    "##### Abstract data types are the specifications and data structures are the concrete implementations."
   ]
  },
  {
   "cell_type": "markdown",
   "metadata": {},
   "source": [
    "---------------------------------------------------"
   ]
  },
  {
   "cell_type": "markdown",
   "metadata": {},
   "source": [
    "## List Vs. LinkedList"
   ]
  },
  {
   "cell_type": "code",
   "execution_count": 1,
   "metadata": {
    "scrolled": true
   },
   "outputs": [
    {
     "data": {
      "text/html": [
       "<div>\n",
       "<style scoped>\n",
       "    .dataframe tbody tr th:only-of-type {\n",
       "        vertical-align: middle;\n",
       "    }\n",
       "\n",
       "    .dataframe tbody tr th {\n",
       "        vertical-align: top;\n",
       "    }\n",
       "\n",
       "    .dataframe thead th {\n",
       "        text-align: right;\n",
       "    }\n",
       "</style>\n",
       "<table border=\"1\" class=\"dataframe\">\n",
       "  <thead>\n",
       "    <tr style=\"text-align: right;\">\n",
       "      <th></th>\n",
       "      <th></th>\n",
       "      <th>LinkedList</th>\n",
       "      <th>List/Array</th>\n",
       "    </tr>\n",
       "  </thead>\n",
       "  <tbody>\n",
       "    <tr>\n",
       "      <th>0</th>\n",
       "      <td>Search</td>\n",
       "      <td>O(n)</td>\n",
       "      <td>O(1)</td>\n",
       "    </tr>\n",
       "    <tr>\n",
       "      <th>1</th>\n",
       "      <td>Insert at the start</td>\n",
       "      <td>O(1)</td>\n",
       "      <td>O(n)</td>\n",
       "    </tr>\n",
       "    <tr>\n",
       "      <th>2</th>\n",
       "      <td>Insert at the end</td>\n",
       "      <td>O(n)</td>\n",
       "      <td>O(1)</td>\n",
       "    </tr>\n",
       "    <tr>\n",
       "      <th>3</th>\n",
       "      <td>Memory</td>\n",
       "      <td>O(n)</td>\n",
       "      <td>0</td>\n",
       "    </tr>\n",
       "  </tbody>\n",
       "</table>\n",
       "</div>"
      ],
      "text/plain": [
       "                       LinkedList List/Array\n",
       "0               Search       O(n)       O(1)\n",
       "1  Insert at the start       O(1)       O(n)\n",
       "2    Insert at the end       O(n)       O(1)\n",
       "3               Memory       O(n)          0"
      ]
     },
     "execution_count": 1,
     "metadata": {},
     "output_type": "execute_result"
    }
   ],
   "source": [
    "import pandas as pd\n",
    "df = pd.DataFrame({'':  ['Search', 'Insert at the start', 'Insert at the end', 'Memory'],\n",
    "        'LinkedList': ['O(n)', 'O(1)','O(n)','O(n)'],\n",
    "        'List/Array':['O(1)','O(n)','O(1)','0']})\n",
    "df"
   ]
  },
  {
   "cell_type": "markdown",
   "metadata": {},
   "source": [
    "The other answers mostly correctly state that the complexity is O(n) if you need to search for the position in which to insert the new node; but in most case a linked list is never used in a situation where a search is necessary.\n",
    "\n",
    "The time complexity for removal is only O(1) for a doubly-linked list if you already have a reference to the node you want to remove. Removal for a singly-linked list is only O(1) if you already have references to the node you want to remove and the one before."
   ]
  },
  {
   "cell_type": "markdown",
   "metadata": {},
   "source": [
    "LinkedList take O(n) to search the position and insert/deletion only takes O(1) time"
   ]
  },
  {
   "cell_type": "markdown",
   "metadata": {},
   "source": [
    "Find the max/min take O(n) in list:     \n",
    "traverse遍历all the elements in the list     \n",
    "linear running time  "
   ]
  },
  {
   "cell_type": "markdown",
   "metadata": {},
   "source": [
    "### List"
   ]
  },
  {
   "cell_type": "code",
   "execution_count": 2,
   "metadata": {},
   "outputs": [
    {
     "data": {
      "text/plain": [
       "[1, 3, 5, 6, 7, 9]"
      ]
     },
     "execution_count": 2,
     "metadata": {},
     "output_type": "execute_result"
    }
   ],
   "source": [
    "l=[1,3,5,7,9]\n",
    "l.insert(3, 6)\n",
    "l"
   ]
  },
  {
   "cell_type": "code",
   "execution_count": 3,
   "metadata": {},
   "outputs": [
    {
     "data": {
      "text/plain": [
       "6"
      ]
     },
     "execution_count": 3,
     "metadata": {},
     "output_type": "execute_result"
    }
   ],
   "source": [
    "l.pop(3)"
   ]
  },
  {
   "cell_type": "code",
   "execution_count": 4,
   "metadata": {},
   "outputs": [
    {
     "data": {
      "text/plain": [
       "[1, 3, 5, 7, 9]"
      ]
     },
     "execution_count": 4,
     "metadata": {},
     "output_type": "execute_result"
    }
   ],
   "source": [
    "l"
   ]
  },
  {
   "cell_type": "code",
   "execution_count": 5,
   "metadata": {},
   "outputs": [
    {
     "name": "stdout",
     "output_type": "stream",
     "text": [
      "6\n"
     ]
    }
   ],
   "source": [
    "l = [1,3,5,2,4,6,3,1]\n",
    "max = l[0]\n",
    "for num in l:\n",
    "    if num > max:\n",
    "        max = num\n",
    "print(max)"
   ]
  },
  {
   "cell_type": "markdown",
   "metadata": {},
   "source": [
    "### Linked List"
   ]
  },
  {
   "cell_type": "code",
   "execution_count": 6,
   "metadata": {},
   "outputs": [],
   "source": [
    "class Node:\n",
    "    def __init__(self, data):\n",
    "        self.data = data # Every single node needs to store the data\n",
    "        self.nextNode = None # Every single node refers to the next node\n",
    "\n",
    "# A single node contains data like integers, double or custom object\n",
    "# A single node also contains a reference pointing to the next node in the linked list\n",
    "\n",
    "class LinkedList:\n",
    "    def __init__(self):\n",
    "        self.head = None # LinkedList is empty at the beginning. The First Node is the head node.\n",
    "        self.numOfNodes = 0 # Store a reference number 0 at the beginning.\n",
    "    \n",
    "    # O(1)↓\n",
    "    def insert_start(self, data): # this function gets the data.\n",
    "        self.numOfNodes = self.numOfNodes+1 # increment the number of nodes\n",
    "        new_node = Node(data) # instantiate new node includes the data\n",
    "        \n",
    "        #Then we check if the head nodes is None or Null.\n",
    "        if not self.head: # if self.head = None, then the first node is the next node.\n",
    "            self.head = new_node\n",
    "        else: # if the headnode is not empty, we need to make sure the node is the headnode.\n",
    "            new_node.nextNode = self.head \n",
    "            # ↑ We update the reference, newNode headnode is the next node.\n",
    "            # ↑ The previous head node becomes the second node.\n",
    "            self.head = new_node \n",
    "            # ↑ We update the headnode to be the new node.\n",
    "            # ↑ The new insertion node at the beginning will be the new head node.\n",
    "            \n",
    "    # O(n)↓\n",
    "    def insert_end(self, data): # If we want to insert data at the end of a LinkedList\n",
    "        self.numOfNodes = self.numOfNodes+1 # increment the number of nodes\n",
    "        new_node = Node(data) # instantiate new node includes the data\n",
    "        \n",
    "        actual_node = self.head # start from the beginning\n",
    "        \n",
    "        while actual_node.nextNode is not None: # Finding the last node, which always point to Null.\n",
    "            actual_node = actual_node.nextNode # if not the last node, check the next node.\n",
    "        \n",
    "        actual_node.nextNode = new_node # After we find the end node, we update the end node.\n",
    "        # This is the why the LinkedList takes O(n), linear running time, to find the position.\n",
    "    \n",
    "    def remove(self, data):\n",
    "        if self.head is None: # if the linkedlist is empty, nothing to return.\n",
    "            return\n",
    "        \n",
    "        actual_node = self.head \n",
    "        previous_node = None # there is no previous node before the head node.\n",
    "        \n",
    "        # if this is not the data we are looking for, \n",
    "        # we also need to make sure the actual node is not None\n",
    "        while actual_node is not None and actual_node.data != data:\n",
    "            previous_node = actual_node\n",
    "            actual_node = actual_node.nextNode\n",
    "        \n",
    "        # if the actual node is None, this means we have gone through all the nodes in the linkedlist\n",
    "        # and we don't find it. Search miss is the item is not present in the linked list\n",
    "        if actual_node is None:\n",
    "            return\n",
    "        \n",
    "        self.numOfNodes -= 1 # number of nodes minus 1 after remove an element.\n",
    "        \n",
    "        # if previous_node is none, the head node is the one to we want to remove because only\n",
    "        # the head node's previous_node is None\n",
    "        # This is how we remove the head node.\n",
    "        if previous_node is None:\n",
    "            self.head = actual_node.nextNode\n",
    "        else: # this is to remove the node in the middle, 1-2-3 to 1-3: 1's next = 2's next\n",
    "              # So 2 will be removed.\n",
    "            previous_node.nextNode = actual_node.nextNode\n",
    "        \n",
    "    # O(1)↓\n",
    "    def size_of_linkedlist(self):\n",
    "        return self.numOfNodes\n",
    "\n",
    "    # O(n)↓\n",
    "    def traverse(self):\n",
    "        actual_node = self.head # initialize the value from the start.\n",
    "        while actual_node is not None: # print all the nodes out until the end\n",
    "#             print(actual_node)\n",
    "            print(actual_node.data)\n",
    "            actual_node = actual_node.nextNode # equivalent to i += 1\n",
    "            "
   ]
  },
  {
   "cell_type": "markdown",
   "metadata": {},
   "source": [
    "In Python, we can put different data types in a single linkedlist, but in C or Java, we have to make different linkedlist to insert. It is not good to insert different types of objects in one LinkedList \n",
    "\n",
    "\n",
    "#### Here are some Java codes for putting into same linkedlist collection:    "
   ]
  },
  {
   "cell_type": "code",
   "execution_count": 7,
   "metadata": {},
   "outputs": [],
   "source": [
    "# List<Object> l = new LinkedList<Object>();        \n",
    "# List<Integer> r = new LinkedList<Integer>();       \n",
    "# l.add(new Integer(1));      \n",
    "# l.add(new Integer(2));     \n",
    "# l.add(new Integer(3));     \n",
    "# l.add(\"a\");     \n",
    "# l.add(\"b\");     \n",
    "\n",
    "# System.out.println(l);     \n",
    "  \n",
    "# for(Object o: l) {     \n",
    "#     if (o instanceof Integer) {    \n",
    "#         r.add((Integer) o);     \n",
    "#     }\n",
    "# }\n",
    "\n",
    "# System.out.println(r);  "
   ]
  },
  {
   "cell_type": "code",
   "execution_count": 8,
   "metadata": {},
   "outputs": [],
   "source": [
    "ll = LinkedList()\n",
    "ll.insert_start(10)\n",
    "ll.insert_start(9.5)\n",
    "ll.insert_start(8.4)\n",
    "ll.insert_start(5)\n",
    "ll.insert_start(3)\n",
    "ll.insert_start(100)"
   ]
  },
  {
   "cell_type": "code",
   "execution_count": 9,
   "metadata": {},
   "outputs": [
    {
     "name": "stdout",
     "output_type": "stream",
     "text": [
      "100\n",
      "3\n",
      "5\n",
      "8.4\n",
      "9.5\n",
      "10\n"
     ]
    }
   ],
   "source": [
    "ll.traverse()"
   ]
  },
  {
   "cell_type": "code",
   "execution_count": 10,
   "metadata": {},
   "outputs": [
    {
     "data": {
      "text/plain": [
       "6"
      ]
     },
     "execution_count": 10,
     "metadata": {},
     "output_type": "execute_result"
    }
   ],
   "source": [
    "ll.size_of_linkedlist()"
   ]
  },
  {
   "cell_type": "code",
   "execution_count": 11,
   "metadata": {},
   "outputs": [
    {
     "name": "stdout",
     "output_type": "stream",
     "text": [
      "start\n",
      "100\n",
      "3\n",
      "5\n",
      "8.4\n",
      "9.5\n",
      "10\n",
      "end\n"
     ]
    }
   ],
   "source": [
    "ll.insert_start('start')\n",
    "ll.insert_end('end')\n",
    "ll.traverse()"
   ]
  },
  {
   "cell_type": "code",
   "execution_count": 12,
   "metadata": {},
   "outputs": [
    {
     "data": {
      "text/plain": [
       "8"
      ]
     },
     "execution_count": 12,
     "metadata": {},
     "output_type": "execute_result"
    }
   ],
   "source": [
    "ll.size_of_linkedlist()"
   ]
  },
  {
   "cell_type": "code",
   "execution_count": 13,
   "metadata": {},
   "outputs": [
    {
     "name": "stdout",
     "output_type": "stream",
     "text": [
      "start\n",
      "3\n",
      "5\n",
      "8.4\n",
      "9.5\n",
      "10\n",
      "end\n"
     ]
    }
   ],
   "source": [
    "ll.remove(100)\n",
    "ll.traverse()"
   ]
  },
  {
   "cell_type": "code",
   "execution_count": 14,
   "metadata": {},
   "outputs": [
    {
     "data": {
      "text/plain": [
       "7"
      ]
     },
     "execution_count": 14,
     "metadata": {},
     "output_type": "execute_result"
    }
   ],
   "source": [
    "ll.size_of_linkedlist()"
   ]
  },
  {
   "cell_type": "code",
   "execution_count": 15,
   "metadata": {},
   "outputs": [
    {
     "name": "stdout",
     "output_type": "stream",
     "text": [
      "start\n",
      "3\n",
      "5\n",
      "9.5\n",
      "10\n"
     ]
    }
   ],
   "source": [
    "ll.remove(8.4)\n",
    "ll.remove('end')\n",
    "ll.traverse()"
   ]
  },
  {
   "cell_type": "code",
   "execution_count": 16,
   "metadata": {},
   "outputs": [
    {
     "data": {
      "text/plain": [
       "5"
      ]
     },
     "execution_count": 16,
     "metadata": {},
     "output_type": "execute_result"
    }
   ],
   "source": [
    "ll.size_of_linkedlist()"
   ]
  },
  {
   "cell_type": "code",
   "execution_count": 17,
   "metadata": {},
   "outputs": [
    {
     "name": "stdout",
     "output_type": "stream",
     "text": [
      "['NULL_start', 'Node1', 'Node2', 'Node3', 'Node4', 'NULL_end']\n",
      "[('Node1', 'NULL_start'), ('Node1', 'Node2'), ('Node2', 'Node1'), ('Node2', 'Node3'), ('Node3', 'Node2'), ('Node3', 'Node4'), ('Node4', 'Node3'), ('Node4', 'NULL_end')]\n"
     ]
    },
    {
     "data": {
      "image/png": "[encoded data removed]",
      "text/plain": [
       "<Figure size 432x288 with 1 Axes>"
      ]
     },
     "metadata": {},
     "output_type": "display_data"
    }
   ],
   "source": [
    "import networkx as nx\n",
    "import matplotlib.pyplot as plt\n",
    "\n",
    "G = nx.DiGraph()\n",
    "G.add_node(\"NULL_start\")\n",
    "G.add_node(\"Node1\")\n",
    "G.add_node(\"Node2\")\n",
    "G.add_node(\"Node3\")\n",
    "G.add_node(\"Node4\")\n",
    "G.add_node(\"NULL_end\")\n",
    "G.add_edge(\"Node1\",\"NULL_start\")\n",
    "G.add_edge(\"Node1\",\"Node2\")\n",
    "G.add_edge(\"Node2\",\"Node1\")\n",
    "G.add_edge(\"Node2\",\"Node3\")\n",
    "G.add_edge(\"Node3\",\"Node2\")\n",
    "G.add_edge(\"Node3\",\"Node4\")\n",
    "G.add_edge(\"Node4\",\"Node3\")\n",
    "G.add_edge(\"Node4\",\"NULL_end\")\n",
    "\n",
    "print(G.nodes())\n",
    "print(G.edges())\n",
    "\n",
    "pos = nx.spring_layout(G)\n",
    "\n",
    "nx.draw_networkx_nodes(G, pos)\n",
    "nx.draw_networkx_labels(G, pos)\n",
    "nx.draw_networkx_edges(G, pos, edge_color='r', arrows = True,\n",
    "#                        node_color = '#00b4d9'\n",
    "#                        node_size = 100\n",
    "                      )\n",
    "\n",
    "plt.show()"
   ]
  },
  {
   "cell_type": "code",
   "execution_count": 18,
   "metadata": {},
   "outputs": [],
   "source": [
    "G.add_node(\"Node 1\")\n",
    "G.add_node(\"Node 2\")\n",
    "G.add_node(\"Node 3\")\n",
    "G.add_node(\"Node 4\")"
   ]
  },
  {
   "cell_type": "markdown",
   "metadata": {},
   "source": [
    "In doubly linkedlist, we can remove operation in O(1) running time if we can access the previous node with the reference!!!"
   ]
  },
  {
   "cell_type": "code",
   "execution_count": 19,
   "metadata": {},
   "outputs": [
    {
     "ename": "SyntaxError",
     "evalue": "invalid syntax (<ipython-input-19-38c8ef2efbde>, line 3)",
     "output_type": "error",
     "traceback": [
      "\u001b[1;36m  File \u001b[1;32m\"<ipython-input-19-38c8ef2efbde>\"\u001b[1;36m, line \u001b[1;32m3\u001b[0m\n\u001b[1;33m    Node nextNode\u001b[0m\n\u001b[1;37m         ^\u001b[0m\n\u001b[1;31mSyntaxError\u001b[0m\u001b[1;31m:\u001b[0m invalid syntax\n"
     ]
    }
   ],
   "source": [
    "class Node:\n",
    "    data\n",
    "    Node nextNode\n",
    "    Node previousNode\n",
    "\n",
    "removeSingle(Node node, Node previousNode)\n",
    "    tempNode = head\n",
    "    while tempNode != NULL:\n",
    "        if tempNode == node:\n",
    "            previousNode.nextNode = tempNode.nextNode\n",
    "            tempNode = null\n",
    "            return\n",
    "        previousNode = tempNode\n",
    "        tempNode = tempNode.nextNode\n",
    "\n",
    "removeDouble(Node node)\n",
    "    node.previousNode.nextNode = node.nextNode\n",
    "    node.nextNode.previousNode = node.previousNode\n",
    "    "
   ]
  },
  {
   "cell_type": "markdown",
   "metadata": {},
   "source": [
    "### Advantages of double linked lists:\n",
    "\n",
    "#### Singly linked list allows traversal elements only in one way. Doubly linked list allows element two way traversal. ... As singly linked list store pointer of only one node so consumes lesser memory. On other hand Doubly linked list uses more memory per node(two pointers).      \n",
    "#### Singly linked list takes less memory but slower than doubly linked list.       \n",
    "a doubly linked list can be traversed both directions: forward and backward        \n",
    "the remove operation is more efficient if the node is given        \n",
    "for linkedlists we need the previous node as well.     \n",
    "To find the node, we usually need to traverse the whole list     \n",
    "\n",
    "To remove a node from singly linked list -> we node the node + predecessor           \n",
    "To remove a node from doubly linked list -> we need the node    "
   ]
  },
  {
   "cell_type": "markdown",
   "metadata": {},
   "source": [
    "### Linked List Application:       \n",
    "Opearation system uses almost all the important data structures. Let's talk about the real-world applications of linked lists:                \n",
    "#### 1. low level memory management     \n",
    "linked lists are important in low level memory management        \n",
    "with these built-in functions we can manipulate the heap memory  \n",
    "The list of free blocks is traversed until a block that would fit both the requested size plus the of the block header is found. If no such block is found, malloc() returns NULL.             \n",
    "The heap memory will be represented as a doubly linked list.         \n",
    "#### 2. applications in Windows - hotkeys:Alt+Tab              \n",
    "Alt+Tab switch tabs is an example of linkedlist.       \n",
    "#### 3. applications in Windows - PhotoViewer        \n",
    "The PhotoViewer application is another example of linked lists.          \n",
    "Next photo: next node in the linked list.      \n",
    "Previous photo: previous node in the linked list.       \n",
    "#### 4. blockchains (BitCoin)        \n",
    "The blockchain is basically a simple linkedlist where blocks are cryptographically linked together         \n",
    "Genesis block   <------->   block 1     <------->     block 2   <------->   block 3   <-------> ...       \n",
    "Prev.Hash:0000           Prev.Hash:056FH          Prev.Hash:HJI66       Prev.Hash:ZU77F         \n",
    "Hash:056FH                 Hash: HJI66               Hash:ZU77F            Hash:789BV\n",
    "\n",
    "\n",
    "so the blockchain itself is a linked list with hash-pointers.          \n",
    "every node in the blockchain has 2 hash values: own hash and the hash value of the previous block     "
   ]
  },
  {
   "cell_type": "markdown",
   "metadata": {},
   "source": [
    "#### Why to use linked lists over arrays?        \n",
    "##### Because it is faster to insert items at the beginning of the list as we do not have to rearrange the array, just update the references accordingly.         \n",
    "X Not because linked lists are memory friendly, so we should use linked lists in order to save some space.      \n",
    "\n",
    "#### When will we end up with an O(N) algorithm as far as arrays are concerned?        \n",
    "##### When we insert items at the beginning of the list.           \n",
    "P.s. sorting an array time complexity is O(n log(n)).            \n",
    "\n",
    "#### Which data structure to choose if our aim is to minimize the amount of memory we use?        \n",
    "##### Array       \n",
    "Unlike array, which is a cache-friendly data structure because its elements are placed right next to each other, elements of linked-list can be placed anywhere in the memory."
   ]
  },
  {
   "cell_type": "markdown",
   "metadata": {},
   "source": [
    "###### Leetcode 2"
   ]
  },
  {
   "cell_type": "code",
   "execution_count": 45,
   "metadata": {},
   "outputs": [],
   "source": [
    "# Definition for singly-linked list.\n",
    "# class ListNode:\n",
    "#     def __init__(self, val=0, next=None):\n",
    "#         self.val = val\n",
    "#         self.next = next\n",
    "class Solution:\n",
    "    def addTwoNumbers(self, l1: ListNode, l2: ListNode) -> ListNode:\n",
    "        tenth = 0\n",
    "        # tail also represents the current node we are working on.\n",
    "        empty = tail = ListNode(0)\n",
    "        \n",
    "        # Common algorithm for addition with carry\n",
    "        while l1 or l2 or tenth:\n",
    "            # linked list will return none if there is nothing in the node. None doesn't work.\n",
    "            summ = (l1.val if l1 else 0) + (l2.val if l2 else 0) + (tenth if tenth else 0)\n",
    "            tail.next = ListNode(int(str(summ)[-1]))\n",
    "            #tail always point to the current node we are working on.\n",
    "            tail = tail.next\n",
    "            tenth = summ//10\n",
    "            l1 = l1.next if l1 else None\n",
    "            l2 = l2.next if l2 else None\n",
    "        #The first node of the empty ListNode I created is 0, so always return from the second\n",
    "        return empty.next"
   ]
  },
  {
   "cell_type": "markdown",
   "metadata": {},
   "source": [
    "###### Leetcode 19"
   ]
  },
  {
   "cell_type": "code",
   "execution_count": 5,
   "metadata": {},
   "outputs": [],
   "source": [
    "# Definition for singly-linked list.\n",
    "class ListNode:\n",
    "    def __init__(self, val=0, next=None):\n",
    "        self.val = val\n",
    "        self.next = next\n",
    "class Solution:\n",
    "    def removeNthFromEnd(self, head: ListNode, n: int) -> ListNode:\n",
    "        if head.next == None:\n",
    "            return None\n",
    "        tmp = head\n",
    "        size = 0\n",
    "        \n",
    "        # find the size of the linked list\n",
    "        while tmp:\n",
    "            size += 1\n",
    "            tmp = tmp.next\n",
    "        tmp = head\n",
    "        \n",
    "        #if we have to remove the first node:\n",
    "        if n == size: \n",
    "            return head.next\n",
    "        \n",
    "        # if it is 3rd node from the end: 1 -> 2 -> 3 -> 4 size=4, n=3, for i in range(4-3-1), for i in range(0)\n",
    "        # In the above case, the loop will not run\n",
    "        # if it is the 2nd node from the end: 1 -> 2 -> 3 -> 4 -> 5, n=2 for i in range(5-2-1), for i in range(2)\n",
    "        # loop two times, tmp =1 initial value, tmp = 2, tmp =3 loop two times. Then 3'next  = 3's next next,which is 5, skip 4\n",
    "        for i in range(size-n-1):\n",
    "            tmp = tmp.next\n",
    "        \n",
    "        # head is the name of the linkedlist\n",
    "        tmp.next = tmp.next.next\n",
    "        return head"
   ]
  },
  {
   "cell_type": "code",
   "execution_count": 4,
   "metadata": {},
   "outputs": [],
   "source": [
    "for i in range(0):\n",
    "    print(i)"
   ]
  },
  {
   "cell_type": "markdown",
   "metadata": {},
   "source": [
    "##### Leetcode 21"
   ]
  },
  {
   "cell_type": "code",
   "execution_count": null,
   "metadata": {},
   "outputs": [],
   "source": [
    "# Definition for singly-linked list.\n",
    "# class ListNode:\n",
    "#     def __init__(self, val=0, next=None):\n",
    "#         self.val = val\n",
    "#         self.next = next\n",
    "class Solution:\n",
    "    def mergeTwoLists(self, l1: ListNode, l2: ListNode) -> ListNode:\n",
    "        # if not l1 and not l2:\n",
    "        #     return []\n",
    "        # elif l1 and not l2:\n",
    "        #     return l1\n",
    "        # elif not l1 and l2:\n",
    "        #     reuturn l2\n",
    "        # else:\n",
    "        #     s = []\n",
    "        #     for i,j in zip(l1, l2):\n",
    "        #         s.append(min(i,j))\n",
    "        #         small_one = max(i,j)\n",
    "        dummy = ListNode(0)  \n",
    "        cur = dummy  \n",
    "        while l1 and l2:  \n",
    "            if l1.val <= l2.val:  \n",
    "                cur.next = l1  \n",
    "                l1 = l1.next  \n",
    "            else:  \n",
    "                cur.next = l2  \n",
    "                l2 = l2.next  \n",
    "            cur = cur.next \n",
    "        # cur will return only the listnode with values.\n",
    "        cur.next = l1 or l2\n",
    "        return dummy.next  "
   ]
  },
  {
   "cell_type": "code",
   "execution_count": 1,
   "metadata": {},
   "outputs": [
    {
     "name": "stdout",
     "output_type": "stream",
     "text": [
      "1 2\n",
      "2 3\n",
      "4 8\n"
     ]
    }
   ],
   "source": [
    "l1 = [1,2,4,5,6]\n",
    "l2 = [2,3,8]\n",
    "for i,j in zip(l1,l2):\n",
    "    print(i,j)"
   ]
  },
  {
   "cell_type": "code",
   "execution_count": 15,
   "metadata": {},
   "outputs": [
    {
     "data": {
      "text/plain": [
       "15"
      ]
     },
     "execution_count": 15,
     "metadata": {},
     "output_type": "execute_result"
    }
   ],
   "source": [
    "a = 15\n",
    "a//-5\n",
    "a"
   ]
  },
  {
   "cell_type": "markdown",
   "metadata": {},
   "source": [
    "###### Leetcode 24"
   ]
  },
  {
   "cell_type": "code",
   "execution_count": null,
   "metadata": {},
   "outputs": [],
   "source": [
    "# Definition for singly-linked list.\n",
    "# class ListNode:\n",
    "#     def __init__(self, val=0, next=None):\n",
    "#         self.val = val\n",
    "#         self.next = next\n",
    "class Solution:\n",
    "    def swapPairs(self, head: ListNode) -> ListNode:\n",
    "#         if not head or not head.next:\n",
    "#             return head\n",
    "        \n",
    "#         new = tail = ListNode(0)\n",
    "#         first = head\n",
    "#         second = first.next\n",
    "        \n",
    "#         while head:\n",
    "#             tail.next, tail.next.next = second, first\n",
    "#             first = second.next\n",
    "#             second = first.next\n",
    "#             tail = tail.next.next\n",
    "            \n",
    "#             if first and not second:\n",
    "#                 tail.next = first\n",
    "#                 break\n",
    "        \n",
    "#         return new.next\n",
    "\n",
    "#         if not head or not head.next: \n",
    "#             return head\n",
    "        \n",
    "#         create the first node of 0\n",
    "        dummy = ListNode(0)\n",
    "#         dummy would now be 0 -> head listnode.\n",
    "        dummy.next = head\n",
    "#         current node would be the same as dummy listnode now\n",
    "        cur = dummy\n",
    "        \n",
    "#         if cur's next node and curr's next next node are not empty:\n",
    "        while cur.next and cur.next.next:\n",
    "#           let the first be the first node in the head nodelist\n",
    "            first = cur.next\n",
    "#           let the sec be the second node in the head nodelist\n",
    "            sec = cur.next.next\n",
    "#           the first node be the second node\n",
    "            cur.next = sec\n",
    "#           we let the node after the first node(which now is the second node).. \n",
    "#           ..point to the third node directly.\n",
    "            first.next = sec.next\n",
    "            \n",
    "#           he original second node point to the original first node now:\n",
    "#           e.p.  1 -> 2 changes to 2 -> 1\n",
    "            sec.next = first\n",
    "#             the current node will point to the second node from the node zero.\n",
    "#           e.p. 0 -> 1 -> 2 -> 3, curr = 0 changes to cur = 2\n",
    "            cur = cur.next.next\n",
    "        return dummy.next  \n",
    "\n",
    "        # dummy = ListNode(0)\n",
    "        # dummy.next = head\n",
    "        # return dummy"
   ]
  },
  {
   "cell_type": "markdown",
   "metadata": {},
   "source": [
    "-----------------------------------------------"
   ]
  },
  {
   "cell_type": "markdown",
   "metadata": {},
   "source": [
    "## Stack\n",
    "\n",
    "It is an abstract data type(interface)        \n",
    "Basic operations: pop(), push(), and peek().      \n",
    "LIFO structure: Last In First Out       \n",
    "In most high level languages, a stack can be easily implemented either with arrays or linked lists      \n",
    "A number of programming languages are stack-oriented, meaning they define most basic operations(adding two numbers, printing a character) as taking their arguments from the stack, and placing any return valuesback on the stack.     "
   ]
  },
  {
   "cell_type": "markdown",
   "metadata": {},
   "source": [
    "### push operation\n",
    "put the given item to the top of the stack           \n",
    "Very simple operation, can be done in O(1)         \n",
    "\n",
    "stack.push() put in values at the top   \n",
    "\n",
    "\n",
    "### pop operation:\n",
    "we take the last item we have inserted ot the top of the stack(LIFO)       \n",
    "Very simple operation, can be done in O(1)       \n",
    "\n",
    "stack.pop() take the topmost value out     \n",
    "\n",
    "### Peek operation:\n",
    "return the item from the top of the stack without removing it          \n",
    "Very simple operation, can be done in O(1)     \n",
    "\n",
    "stack.peek()       \n",
    "difference between pop() and peek() is that pop() returns the last value and removes it(size of the stack will change), but peek() returns the last value but NOT removing it(size of the stack will NOT change).   "
   ]
  },
  {
   "cell_type": "markdown",
   "metadata": {},
   "source": [
    "### Applications\n",
    "In stack-oriented programming languages       \n",
    "Graph algorithms: depth-first search (DFS) can be implemented with stacks or with recursion         \n",
    "Finding Euler-cycles in a graph            \n",
    "Finding strongly connected components in a graph           "
   ]
  },
  {
   "cell_type": "markdown",
   "metadata": {},
   "source": [
    "stack memory is the most important application of stacks.            \n",
    "It is a special region of the memory in the RAM      \n",
    "A call stack is an abstract data type that stores information about the active subroutines/ methods/ functions of a computer program        \n",
    "The details are normally hidden and automatic in high-level programming languages         \n",
    "\n",
    "##### Why is it good?\n",
    "It keeps track of the point to which each active subroutine should return control when it finishes executing.      \n",
    "Stores temporary variables created by each function.     \n",
    "when return values, local variables will be stored in the stack got rid off while returning values.       \n",
    "\n",
    "Everytime a function declaures a new variable it is pushed onto the stack.       \n",
    "Every time a function exits all of the variables - pushed onto the stack by that function - are freed -> all of its variables are popped off of the stack // and lost forever!       \n",
    "Local variables: they are on the stack, after function returns they are lost.           \n",
    "stack memory is limited         "
   ]
  },
  {
   "cell_type": "markdown",
   "metadata": {},
   "source": [
    "### Heap memory\n",
    "The heap is a region of memory that is not managed automatically for you.      \n",
    "unlike stack memory is small but faster than heap memory, heap memory is a large region of memory // unlike stack memory       \n",
    "C: malloc() and calloc() // with pointers to allocate space for memory.       \n",
    "Java: referec types and objects are on the heap. When we instantiate a class, we create an object. It is going to be added to the heap memory              \n",
    "We have to deallocate these memory chunks: because it is not managed automatically.       \n",
    "This is why java garbage collection operation came to be in order to get rid of those objects from heap memory that is not being used.                    \n",
    "P.s. Stack memory is managed by automatic system like local variables popped up automatically, but not for heap.       \n",
    "If not: memory leak!!!                \n",
    "Slower because of the pointers           "
   ]
  },
  {
   "cell_type": "code",
   "execution_count": 20,
   "metadata": {},
   "outputs": [
    {
     "data": {
      "text/html": [
       "<div>\n",
       "<style scoped>\n",
       "    .dataframe tbody tr th:only-of-type {\n",
       "        vertical-align: middle;\n",
       "    }\n",
       "\n",
       "    .dataframe tbody tr th {\n",
       "        vertical-align: top;\n",
       "    }\n",
       "\n",
       "    .dataframe thead th {\n",
       "        text-align: right;\n",
       "    }\n",
       "</style>\n",
       "<table border=\"1\" class=\"dataframe\">\n",
       "  <thead>\n",
       "    <tr style=\"text-align: right;\">\n",
       "      <th></th>\n",
       "      <th>stack memory</th>\n",
       "      <th>heap memory</th>\n",
       "    </tr>\n",
       "  </thead>\n",
       "  <tbody>\n",
       "    <tr>\n",
       "      <th>0</th>\n",
       "      <td>Limited in size</td>\n",
       "      <td>no size limits</td>\n",
       "    </tr>\n",
       "    <tr>\n",
       "      <th>1</th>\n",
       "      <td>Fast access</td>\n",
       "      <td>slow access</td>\n",
       "    </tr>\n",
       "    <tr>\n",
       "      <th>2</th>\n",
       "      <td>Local variables</td>\n",
       "      <td>objects</td>\n",
       "    </tr>\n",
       "    <tr>\n",
       "      <th>3</th>\n",
       "      <td>space is managed by CPU</td>\n",
       "      <td>memory may be fragmented</td>\n",
       "    </tr>\n",
       "    <tr>\n",
       "      <th>4</th>\n",
       "      <td>variables cannot be resized</td>\n",
       "      <td>variables can beresized // realloc()</td>\n",
       "    </tr>\n",
       "  </tbody>\n",
       "</table>\n",
       "</div>"
      ],
      "text/plain": [
       "                  stack memory                           heap memory\n",
       "0              Limited in size                        no size limits\n",
       "1                  Fast access                           slow access\n",
       "2              Local variables                               objects\n",
       "3      space is managed by CPU              memory may be fragmented\n",
       "4  variables cannot be resized  variables can beresized // realloc()"
      ]
     },
     "execution_count": 20,
     "metadata": {},
     "output_type": "execute_result"
    }
   ],
   "source": [
    "# We have two types of memory:\n",
    "import pandas as pd\n",
    "df2 = pd.DataFrame({'stack memory':  ['Limited in size', 'Fast access', 'Local variables', 'space is managed by CPU', 'variables cannot be resized'],\n",
    "        'heap memory': ['no size limits', 'slow access','objects','memory may be fragmented','variables can beresized // realloc()'],\n",
    "        })\n",
    "df2"
   ]
  },
  {
   "cell_type": "markdown",
   "metadata": {},
   "source": [
    "heap memory is managed by programmers           \n",
    "In Java or Python, it is not necessary to know these memory types, but it is always good to know.        "
   ]
  },
  {
   "cell_type": "markdown",
   "metadata": {},
   "source": [
    "Stack and recursion:          \n",
    "There are several situations when recursive methods are quite handy         \n",
    "E.p.: DFS, traversing a binary search tree, looking for an item in a linked list.        \n",
    "What's happening in the background?              \n",
    "All the recursive algorithms can be transformed into a simple method with stacks.         \n",
    "Important: If we use recursion, the OS will use stacks anyways!!!      "
   ]
  },
  {
   "cell_type": "markdown",
   "metadata": {},
   "source": [
    "### Stacks and recursive method calls\n",
    "Depth-first search uses stack      \n",
    "factorial with recursion       \n",
    "What does it all have to do with stacks? The recursive function calls are pushed onto the stack until we bump into the base case           \n",
    "\n",
    "we keep backtracking: we know the base case so we know the subsolutions.           \n",
    "if there are too many function calls to be pushed onto the stack: the stack may get full... no more space left         \n",
    "stack overflow!!!       \n",
    "###### if the depth of the stack is too deep like a million, it will overflow and loop forever and forever!"
   ]
  },
  {
   "cell_type": "code",
   "execution_count": 21,
   "metadata": {},
   "outputs": [
    {
     "data": {
      "text/plain": [
       "720"
      ]
     },
     "execution_count": 21,
     "metadata": {},
     "output_type": "execute_result"
    }
   ],
   "source": [
    "def fac(n):\n",
    "    if n == 0:\n",
    "        return 1\n",
    "    return n*fac(n-1)\n",
    "fac(6)"
   ]
  },
  {
   "cell_type": "code",
   "execution_count": 22,
   "metadata": {},
   "outputs": [
    {
     "data": {
      "text/plain": [
       "720"
      ]
     },
     "execution_count": 22,
     "metadata": {},
     "output_type": "execute_result"
    }
   ],
   "source": [
    "def fac2(n):\n",
    "    a=1\n",
    "    for i in range(1,n+1):\n",
    "        a *= i\n",
    "    return a\n",
    "fac2(6)"
   ]
  },
  {
   "cell_type": "code",
   "execution_count": 23,
   "metadata": {},
   "outputs": [
    {
     "name": "stdout",
     "output_type": "stream",
     "text": [
      "Size: 4\n",
      "Popped item: 6\n",
      "New Size: 3\n",
      "Peek item: 4\n",
      "New New Size: 3\n",
      "Popped item: 4\n",
      "New New New Size: 2\n",
      "Popped item: 3\n",
      "New New New New Size: 1\n",
      "Popped item: 1\n",
      "Final Size: 0\n",
      "Nothing to pop! The stack is empty now!\n"
     ]
    }
   ],
   "source": [
    "# Stack: LIFO abstract data structure:\n",
    "class Stack:\n",
    "    def __init__(self):\n",
    "        self.stack = []\n",
    "    \n",
    "    # insert item into the stack // O(1)\n",
    "    def push(self, data):\n",
    "        self.stack.append(data)\n",
    "    \n",
    "    # remove and return the last item we have inserted () // O(1)\n",
    "    def pop(self):\n",
    "        if self.stack_size() < 1:\n",
    "            print(\"Nothing to pop! The stack is empty now!\")\n",
    "        else:\n",
    "            data = self.stack[-1]\n",
    "            del self.stack[-1]\n",
    "            return data\n",
    "    \n",
    "    # peek: it returns the last item without removing it // O(1)\n",
    "    def peek(self):\n",
    "        return self.stack[-1]\n",
    "    \n",
    "    # this has O(1) running time\n",
    "    def is_empty(self):\n",
    "        return self.stack == []\n",
    "    \n",
    "    def stack_size(self):\n",
    "        return len(self.stack)\n",
    "    \n",
    "stack = Stack()\n",
    "stack.push(1)\n",
    "stack.push(3)\n",
    "stack.push(4)\n",
    "stack.push(6)\n",
    "print(\"Size: %d\" % stack.stack_size())\n",
    "print(\"Popped item: %d\" % stack.pop())\n",
    "print(\"New Size: %d\" % stack.stack_size())\n",
    "print(\"Peek item: %d\" % stack.peek())\n",
    "print(\"New New Size: %d\" % stack.stack_size())\n",
    "print(\"Popped item: %d\" % stack.pop())\n",
    "print(\"New New New Size: %d\" % stack.stack_size())\n",
    "print(\"Popped item: %d\" % stack.pop())\n",
    "print(\"New New New New Size: %d\" % stack.stack_size())\n",
    "print(\"Popped item: %d\" % stack.pop())\n",
    "print(\"Final Size: %d\" % stack.stack_size())\n",
    "stack.pop()"
   ]
  },
  {
   "cell_type": "markdown",
   "metadata": {},
   "source": [
    "###### Leetcode 155"
   ]
  },
  {
   "cell_type": "code",
   "execution_count": 24,
   "metadata": {},
   "outputs": [],
   "source": [
    "class MinStack:\n",
    "\n",
    "    def __init__(self):\n",
    "        \"\"\"\n",
    "        initialize your data structure here.\n",
    "        \"\"\"\n",
    "        self.stack = []\n",
    "\n",
    "    def push(self, x: int) -> None:\n",
    "        self.stack.append(x)\n",
    "\n",
    "    def pop(self) -> None:\n",
    "        last = self.stack[-1]\n",
    "        del self.stack[-1]\n",
    "        return last\n",
    "\n",
    "    def top(self) -> int:\n",
    "        return self.stack[-1]\n",
    "\n",
    "    def getMin(self) -> int:\n",
    "        return min(self.stack)\n",
    "\n",
    "\n",
    "# Your MinStack object will be instantiated and called as such:\n",
    "# obj = MinStack()\n",
    "# obj.push(x)\n",
    "# obj.pop()\n",
    "# param_3 = obj.top()\n",
    "# param_4 = obj.getMin()"
   ]
  },
  {
   "cell_type": "markdown",
   "metadata": {},
   "source": [
    "###### Leetcode 71"
   ]
  },
  {
   "cell_type": "code",
   "execution_count": 25,
   "metadata": {},
   "outputs": [],
   "source": [
    "def simplifyPath(path: str) -> str:\n",
    "#     if path[-1] == '/':\n",
    "#         path = path[:-1:]\n",
    "#     if path.find('../') != -1:\n",
    "#         path = dpath.replace('../','')\n",
    "    paths = path.split('/')\n",
    "    stack = []\n",
    "\n",
    "    for p in paths:\n",
    "        if p in ['', '.']: \n",
    "            continue\n",
    "        elif p == '..':\n",
    "            if len(stack):\n",
    "                stack.pop()\n",
    "            else:\n",
    "                continue\n",
    "        else:\n",
    "            stack.append(p)\n",
    "\n",
    "    return '/' + '/'.join(stack)"
   ]
  },
  {
   "cell_type": "code",
   "execution_count": 26,
   "metadata": {},
   "outputs": [
    {
     "data": {
      "text/plain": [
       "'abde'"
      ]
     },
     "execution_count": 26,
     "metadata": {},
     "output_type": "execute_result"
    }
   ],
   "source": [
    "s = 'abccddccde'\n",
    "s=s.replace('ccd','')\n",
    "s"
   ]
  },
  {
   "cell_type": "code",
   "execution_count": 27,
   "metadata": {},
   "outputs": [
    {
     "data": {
      "text/plain": [
       "False"
      ]
     },
     "execution_count": 27,
     "metadata": {},
     "output_type": "execute_result"
    }
   ],
   "source": [
    "l=[]\n",
    "bool(None)"
   ]
  },
  {
   "cell_type": "code",
   "execution_count": 28,
   "metadata": {},
   "outputs": [
    {
     "name": "stdout",
     "output_type": "stream",
     "text": [
      "0\n",
      "hello\n",
      "please come here\n",
      "1\n",
      "hello\n",
      "please come here\n",
      "2\n",
      "hello\n",
      "please come here\n",
      "3\n",
      "hello\n",
      "please come here\n",
      "4\n",
      "hello\n",
      "please come here\n",
      "5\n",
      "hello\n",
      "please come here\n",
      "6\n",
      "please come here\n",
      "7\n",
      "please come here\n",
      "8\n",
      "please come here\n",
      "9\n",
      "please come here\n"
     ]
    }
   ],
   "source": [
    "# break - break the whole loop, stop here.\n",
    "# continue - goes back to the origin of the loop.\n",
    "# pass - Do nothing just move forward, it is just a filler command.\n",
    "for i in range(10):\n",
    "    print(i)\n",
    "    if i > 5:\n",
    "        pass\n",
    "    else: \n",
    "        print(\"hello\")\n",
    "    print(\"please come here\")"
   ]
  },
  {
   "cell_type": "markdown",
   "metadata": {},
   "source": [
    "###### Leetcode 150"
   ]
  },
  {
   "cell_type": "code",
   "execution_count": 31,
   "metadata": {},
   "outputs": [],
   "source": [
    "class Solution:\n",
    "    def evalRPN(self, tokens: List[str]) -> int:\n",
    "        stack = []\n",
    "        for i in tokens:\n",
    "            if i.lstrip('-').isdigit():\n",
    "                stack.append(int(i))\n",
    "            elif not i.lstrip('-').isdigit():\n",
    "                n2 = stack.pop()\n",
    "                n1 = stack.pop()\n",
    "                if i == '+':\n",
    "                    stack.append(n1+n2)\n",
    "                elif i == '-':\n",
    "                    stack.append(n1-n2)\n",
    "                elif i == '*':\n",
    "                    stack.append(n1*n2)\n",
    "                else: stack.append(int(n1/n2))\n",
    "        return stack[-1]"
   ]
  },
  {
   "cell_type": "code",
   "execution_count": 32,
   "metadata": {},
   "outputs": [
    {
     "data": {
      "text/plain": [
       "['10', '6', '9', '3', '17', '5']"
      ]
     },
     "execution_count": 32,
     "metadata": {},
     "output_type": "execute_result"
    }
   ],
   "source": [
    "n = [\"10\", \"6\", \"9\", \"3\", \"+\", \"-11\", \"*\", \"/\", \"*\", \"17\", \"+\", \"5\", \"+\"]\n",
    "[s for s in n if s.rstrip('-').isdigit()]\n",
    "# n[5].rstrip('-')"
   ]
  },
  {
   "cell_type": "code",
   "execution_count": 33,
   "metadata": {},
   "outputs": [
    {
     "data": {
      "text/plain": [
       "-2"
      ]
     },
     "execution_count": 33,
     "metadata": {},
     "output_type": "execute_result"
    }
   ],
   "source": [
    "int(5/-2)"
   ]
  },
  {
   "cell_type": "code",
   "execution_count": 34,
   "metadata": {
    "scrolled": false
   },
   "outputs": [
    {
     "data": {
      "text/plain": [
       "-3"
      ]
     },
     "execution_count": 34,
     "metadata": {},
     "output_type": "execute_result"
    }
   ],
   "source": [
    "5//-2"
   ]
  },
  {
   "cell_type": "markdown",
   "metadata": {},
   "source": [
    "###### Leetcode 277"
   ]
  },
  {
   "cell_type": "code",
   "execution_count": 31,
   "metadata": {},
   "outputs": [
    {
     "data": {
      "text/plain": [
       "7"
      ]
     },
     "execution_count": 31,
     "metadata": {},
     "output_type": "execute_result"
    }
   ],
   "source": [
    "import math\n",
    "def calculate( s: str) -> int:\n",
    "    num = 0 # current number\n",
    "    pre_op = '+' # we pre-assign the operation because we need to append the first number into the stack.\n",
    "    s+='+' # need the plus operator at the end to append the last number/calculated number into the stack.\n",
    "    stack = []\n",
    "    for c in s:\n",
    "        if c.isdigit(): #123 -> 1*10+2 = 12 -> 12*10+3 = 123\n",
    "            num = num*10 + int(c)\n",
    "        elif c == ' ': # if there are spaces, skip to the next loop.\n",
    "                continue\n",
    "        else:\n",
    "            if pre_op == '+': \n",
    "                stack.append(num)\n",
    "            elif pre_op == '-': # pre-op is still the last updated operator. I append negative number here.\n",
    "                stack.append(-num)\n",
    "            elif pre_op == '*': # the previous number times the current number with the previous operator\n",
    "                operant = stack.pop()\n",
    "                stack.append((operant*num))\n",
    "            elif pre_op == '/':\n",
    "                operant = stack.pop()\n",
    "                stack.append(math.trunc(operant/num))\n",
    "            num = 0 # return back to 0 after one integer finished.\n",
    "            pre_op = c # update the first plus + sign to the first operator, then we loop to the next number\n",
    "    return sum(stack)\n",
    "\n",
    "s = \"3+2*2\"\n",
    "calculate(s)"
   ]
  },
  {
   "cell_type": "code",
   "execution_count": null,
   "metadata": {},
   "outputs": [],
   "source": [
    "        stack = []\n",
    "        stack2 = []\n",
    "        for i,j in enumerate(list(s)):\n",
    "            if j not in \"*/\" and s[s.find(j)-1] not in \"*/\" :\n",
    "                stack.append(i)\n",
    "            else:\n",
    "                previous = stack.pop()\n",
    "                if i == \"*\":\n",
    "                    stack.append(int(previous)*int(s[s.find(i)+1]))\n",
    "                else:stack.append(int(int(previous)/int(s[s.find(i)+1])))\n",
    "        \n",
    "        for j in stack:\n",
    "            if j not in \"+-\":\n",
    "                stack2.append(j)\n",
    "            else:\n",
    "                previous = stack2.pop()\n",
    "                if j == \"+\":\n",
    "                    stack2.append(int(previous)+int(s[s.find(j)+1]))\n",
    "                else:stack2.append(int(previous)-int(s[s.find(j)+1]))\n",
    "        return stack2[-1]\n",
    "        # for i in list(s):\n",
    "        #     if i == \"*\":\n",
    "        #         stack"
   ]
  },
  {
   "cell_type": "markdown",
   "metadata": {},
   "source": [
    "## Queue\n",
    "It is an abstract data type(interface)       \n",
    "Basic operations: enqueue() and dequeue(), peek()       \n",
    "FIFO structure: first in first out.             \n",
    "It can be implemented with dynamic arrays as well as with linked lists              \n",
    "important when implementing BFS algorithms for graphs               "
   ]
  },
  {
   "cell_type": "markdown",
   "metadata": {},
   "source": [
    "Enqueue operation: we just simply add the new item to the end of the queue.           \n",
    "queue.enqueue(20)             \n",
    " \n",
    "Dequeue operation: we just simplyh remove the item starting at the beginning of the queue // FIFO structure        \n",
    "queue.dequeue()      \n",
    "\n",
    "Applications:            \n",
    "When a resource is shared with several consumers(threads): we store them in a queue.           \n",
    "\n",
    "When data is transferred asynchronoously(data not necessarily received at same rate as sent) between two processes           \n",
    "e.p. IO buffers     \n",
    "Operational research applications or stochastic models relies heavily on queues!!!             "
   ]
  },
  {
   "cell_type": "code",
   "execution_count": 22,
   "metadata": {},
   "outputs": [
    {
     "name": "stdout",
     "output_type": "stream",
     "text": [
      "Size: 4\n",
      "Dequeue: 1\n",
      "Dequeue: 3\n",
      "Dequeue: 5\n",
      "Dequeue: 6\n",
      "Dequeue: -1\n",
      "Dequeue: -1\n",
      "New Size: 0\n"
     ]
    }
   ],
   "source": [
    "# FIFO first item we insert is the first one we take out\n",
    "[1,2,3,4]\n",
    "\n",
    "class Queue:\n",
    "    def __init__(self):\n",
    "        self.queue = []\n",
    "        \n",
    "    # O(1) running time\n",
    "    def is_empty(self):\n",
    "        return self.queue == []\n",
    "    \n",
    "    # this operation has O(1) running time\n",
    "    def enqueue(self, data):\n",
    "        self.queue.append(data)\n",
    "        \n",
    "    # O(N) linear running time.\n",
    "    # remove the item from the first, then copy and shift to the left. Therefore, it is O(N)\n",
    "    # This is why we prefer linked list.\n",
    "    # A good approach is to use doubly linked list.\n",
    "    def dequeue(self):\n",
    "        if self.size_queue() != 0:\n",
    "            \n",
    "            data = self.queue[0]\n",
    "            del self.queue[0]\n",
    "            return data\n",
    "        else:\n",
    "            return -1\n",
    "        \n",
    "    # O(1) constant running time\n",
    "    def peek(self):\n",
    "        return self.queue[0]\n",
    "    \n",
    "    # O(1) constant running time\n",
    "    def size_queue(self):\n",
    "        return len(self.queue)\n",
    "    \n",
    "queue = Queue()\n",
    "queue.enqueue(1)\n",
    "queue.enqueue(3)\n",
    "queue.enqueue(5)\n",
    "queue.enqueue(6)\n",
    "print(\"Size: %d\" % queue.size_queue())\n",
    "print(\"Dequeue: %d\" % queue.dequeue())\n",
    "print(\"Dequeue: %d\" % queue.dequeue())\n",
    "print(\"Dequeue: %d\" % queue.dequeue())\n",
    "print(\"Dequeue: %d\" % queue.dequeue())\n",
    "print(\"Dequeue: %d\" % queue.dequeue())\n",
    "print(\"Dequeue: %d\" % queue.dequeue())\n",
    "print(\"New Size: %d\" % queue.size_queue())"
   ]
  },
  {
   "cell_type": "markdown",
   "metadata": {},
   "source": [
    "### Real-world stack application\n",
    "1. back button in web browsers:             \n",
    "The recently visited websites and URLs are pushed onto a stack and the back button pops these URLs.       \n",
    "2. Undo operation in softwares(Photoshop or Paint)(Last In First Out)     \n",
    "\n",
    "3. Stack memory stores local variables and function calls(variables in the method will be removed from the stack when return)          "
   ]
  },
  {
   "cell_type": "code",
   "execution_count": null,
   "metadata": {},
   "outputs": [],
   "source": []
  },
  {
   "cell_type": "code",
   "execution_count": 23,
   "metadata": {},
   "outputs": [
    {
     "data": {
      "text/html": [
       "<div>\n",
       "<style scoped>\n",
       "    .dataframe tbody tr th:only-of-type {\n",
       "        vertical-align: middle;\n",
       "    }\n",
       "\n",
       "    .dataframe tbody tr th {\n",
       "        vertical-align: top;\n",
       "    }\n",
       "\n",
       "    .dataframe thead th {\n",
       "        text-align: right;\n",
       "    }\n",
       "</style>\n",
       "<table border=\"1\" class=\"dataframe\">\n",
       "  <thead>\n",
       "    <tr style=\"text-align: right;\">\n",
       "      <th></th>\n",
       "      <th>Sorted arrays</th>\n",
       "      <th>Linked Lists</th>\n",
       "    </tr>\n",
       "  </thead>\n",
       "  <tbody>\n",
       "    <tr>\n",
       "      <th>0</th>\n",
       "      <td>Inserting a new item is quite slow // O(N)</td>\n",
       "      <td>Inserting a new item is very fast // O(1)</td>\n",
       "    </tr>\n",
       "    <tr>\n",
       "      <th>1</th>\n",
       "      <td>Searching is quite fast with binary search//O(...</td>\n",
       "      <td>Searching is sequential // O(N)</td>\n",
       "    </tr>\n",
       "    <tr>\n",
       "      <th>2</th>\n",
       "      <td>Removing an item is slow // O(N)</td>\n",
       "      <td>Removing an items is fast becasue of the refer...</td>\n",
       "    </tr>\n",
       "  </tbody>\n",
       "</table>\n",
       "</div>"
      ],
      "text/plain": [
       "                                       Sorted arrays  \\\n",
       "0         Inserting a new item is quite slow // O(N)   \n",
       "1  Searching is quite fast with binary search//O(...   \n",
       "2                   Removing an item is slow // O(N)   \n",
       "\n",
       "                                        Linked Lists  \n",
       "0          Inserting a new item is very fast // O(1)  \n",
       "1                    Searching is sequential // O(N)  \n",
       "2  Removing an items is fast becasue of the refer...  "
      ]
     },
     "execution_count": 23,
     "metadata": {},
     "output_type": "execute_result"
    }
   ],
   "source": [
    "## Binary Search Tree\n",
    "df = pd.DataFrame({'Sorted arrays':['Inserting a new item is quite slow // O(N)', 'Searching is quite fast with binary search//O(log N)','Removing an item is slow // O(N)'],\n",
    "                  'Linked Lists':['Inserting a new item is very fast // O(1)', 'Searching is sequential // O(N)','Removing an items is fast becasue of the references//O(1)']})\n",
    "df"
   ]
  },
  {
   "cell_type": "markdown",
   "metadata": {},
   "source": [
    "Binary Search Tree are going to make all of these operations quite fast with O(log N) time complexity!!! ~ predictable"
   ]
  },
  {
   "cell_type": "markdown",
   "metadata": {},
   "source": [
    "#### Trees:           \n",
    "We have nodes with the data and connection between the nodes // edges          \n",
    "root node: we have a reference to this, all other nodes can be accessed via the root node         \n",
    "A node directly connected to another node -> child        \n",
    "The opposite -> parent node           \n",
    "Leaf nodes: with no children           "
   ]
  },
  {
   "cell_type": "markdown",
   "metadata": {},
   "source": [
    "#### Binary Search Trees:\n",
    "every node can have at most two children: left and right child        \n",
    "left child: smaller than the parent         \n",
    "right child greatere than the parent           "
   ]
  },
  {
   "cell_type": "markdown",
   "metadata": {},
   "source": [
    "Why is it good? On every decision we get rid of half of the data in which we are searching!!! // like binary search ~ O(log N) time complexity"
   ]
  },
  {
   "cell_type": "markdown",
   "metadata": {},
   "source": [
    "The heigth of the tree is the number of layers it contains.\n",
    "layer 1 // 2^0 node       \n",
    "layer 2 // 2^1 nodes      \n",
    "layer 3 // 2^2 nodes      \n",
    "layer h // 2^(h-1) nodes       \n",
    "##### if I have N nodes, I should have approximately h = ln N + 1 layers.        \n",
    "In general: h~O(logN) if this is true the tree is said to be balanced. If it is not true, the tree is unbalanced, which means it is asymmetric which is a problem!!!\n",
    "\n",
    "why is it problemtic because the running times are agoing to be reduced so the logarithmic time complexity is not going to be met if the tree becomes unbalanced.\n",
    "\n",
    "Height of the tree, h': the length of the path from the root to the deepest node in the tree.      \n",
    "we should keep the height of the tree at a minimum which is h = log N       \n",
    "If the tree is unbalanced: the h = log N relation is no more valid and the operation's running time is no more logarithmic              "
   ]
  },
  {
   "cell_type": "markdown",
   "metadata": {},
   "source": [
    "### Binary Search Trees:\n",
    "Binary search trees are data structures.        \n",
    "Keeps the keys in the sorted order: so that lookip and other operations can use the principle of binary search!!!            \n",
    "Each comparison allows the operations to skip over half of the tree, so that each lookup/insertion/deletion takes time proportional to the logarithm of the number of items stored in the tree.       \n",
    "This is much better than the linear time O(N) required to find items by key in an unsorted array, but slower than the cooresponding operations on hash tables.\n",
    "##### Reaches almost O(1) speed."
   ]
  },
  {
   "cell_type": "markdown",
   "metadata": {},
   "source": [
    "#### Insertion\n",
    "We start at the root node. If the data we wnat to insert is greater than the root node we go to the right, if it is smaller, we go to the left, and so on...\n",
    "one goes left and one goes right.      \n",
    "we have managed to find the item.      \n",
    "##### On every decision: we discard half of the tree, so it is like binary search in a sorted array // O(log N).\n",
    "\n",
    "We want to find the smallest node: we just have to go to the left as far as possible... it will b e the smallest!       \n",
    "If we want to find the largest node: Go to the right as far as possible, and it will be the largest!    \n",
    "##### ALL the algorithms in BST are logarithm time complexity, so it is a very fast data structure."
   ]
  },
  {
   "cell_type": "markdown",
   "metadata": {},
   "source": [
    "#### Deletion\n",
    "Delete: soft delete -> we do remove the node from the BST we just mark that it has been removed.        \n",
    "    ~not so efficient solution.      \n",
    "    \n",
    "Main three possible cases:          \n",
    "###### 1. The node we want to get rid of is a leaf node        \n",
    "\n",
    "The most complex one:          \n",
    "We have two options:              \n",
    "We have to find the smaller item in the left subtree OR the large item in the right subtree of the node.        \n",
    "The predecessor of the node is the largest number is the left subtree part(The rightmost node of the left subtree of a node)              \n",
    "The smallest number is the right sub tree is called the successor of the parent node.      \n",
    "Complexity: O(logN)             \n",
    "\n",
    "We look for the precessor and swap the two nodes. We end up at a case:     \n",
    "1. situation: we just have to set it to NULL.         \n",
    "\n",
    "Another solution: we look for the successor and swap the two nodes. This becomes the case 2:       \n",
    "we just have to update the references. 32 -> 55 -> 79 to 55 -> 32-> 79 to 55 -> 79.     \n",
    "\n",
    "###### 2. The node we want to get rid of has a single child           \n",
    "\n",
    "We just find the node and send the parents pointer to the child 4-> 1 -> -2 becomes 4 -> -2 update reference directly.     \n",
    "\n",
    "Complexity: first we have to find the item we want to get rid of and we have to update the references     \n",
    "~ set parent's pointer point to it's grandchild directly.     \n",
    "\n",
    "O(logN) find operation + O(1) update references = O(logN)!\n",
    "\n",
    "###### 3. The node we want to get rid of has 2 children     \n",
    "\n",
    "If it is a bottom leaf node, we just search the node (go left and right) and then set it to NULL      \n",
    "Coomplexity: we have to find the item iteslf+we have to elete it or set it to NULL            \n",
    "~ O(logN) find operation + O(1) deletion = O(logN)!!!"
   ]
  },
  {
   "cell_type": "markdown",
   "metadata": {},
   "source": [
    "#### Traversal:\n",
    "sometimes it is necessary to visit every node in the tree.         \n",
    "we can do it several ways:\n",
    "##### 1. in-order traversal       \n",
    "\n",
    "We visit the left subtree + the root node + the right subtree recursively!\n",
    "\n",
    "2. pre-orfer traversal            \n",
    "3. post-order traversal   "
   ]
  },
  {
   "cell_type": "code",
   "execution_count": 19,
   "metadata": {},
   "outputs": [
    {
     "data": {
      "text/plain": [
       "5"
      ]
     },
     "execution_count": 19,
     "metadata": {},
     "output_type": "execute_result"
    }
   ],
   "source": [
    "l = [None] * 5\n",
    "len(l)"
   ]
  },
  {
   "cell_type": "code",
   "execution_count": 25,
   "metadata": {},
   "outputs": [
    {
     "name": "stdout",
     "output_type": "stream",
     "text": [
      "deque([1], maxlen=5)\n"
     ]
    },
    {
     "data": {
      "text/plain": [
       "True"
      ]
     },
     "execution_count": 25,
     "metadata": {},
     "output_type": "execute_result"
    }
   ],
   "source": [
    "from collections import deque\n",
    "def queue(k, value):\n",
    "    queue = deque(maxlen=k)\n",
    "    queue.appendleft(value)\n",
    "    print(queue)\n",
    "    if queue[0] == value: \n",
    "        return True\n",
    "    \n",
    "queue(5,1)"
   ]
  },
  {
   "cell_type": "code",
   "execution_count": 31,
   "metadata": {},
   "outputs": [
    {
     "data": {
      "text/plain": [
       "True"
      ]
     },
     "execution_count": 31,
     "metadata": {},
     "output_type": "execute_result"
    }
   ],
   "source": [
    "d = deque('abcdefghijklmnop')\n",
    "d.appendleft(5)\n",
    "bool(d[0]==5)"
   ]
  },
  {
   "cell_type": "code",
   "execution_count": 62,
   "metadata": {},
   "outputs": [
    {
     "data": {
      "text/plain": [
       "False"
      ]
     },
     "execution_count": 62,
     "metadata": {},
     "output_type": "execute_result"
    }
   ],
   "source": [
    "from collections import deque\n",
    "queue = deque(maxlen = 5)\n",
    "bool(queue)\n",
    "# def insertLast(queue, value: int) -> bool:\n",
    "#     if not value:\n",
    "#         return False\n",
    "#     elif value: \n",
    "#         queue.append(value)\n",
    "#         if queue[-1] == value:\n",
    "#             return True\n",
    "    \n",
    "# insertLast(queue, 1)"
   ]
  },
  {
   "cell_type": "code",
   "execution_count": 57,
   "metadata": {},
   "outputs": [
    {
     "data": {
      "text/plain": [
       "int"
      ]
     },
     "execution_count": 57,
     "metadata": {},
     "output_type": "execute_result"
    }
   ],
   "source": [
    "from collections import deque\n",
    "queue = deque(maxlen = 5)\n",
    "queue.append(1)\n",
    "# queue = queue.append(1)\n",
    "# if queue[-1] == 1:\n",
    "#     print(True)\n",
    "type(queue[-1])"
   ]
  },
  {
   "cell_type": "code",
   "execution_count": 63,
   "metadata": {},
   "outputs": [
    {
     "data": {
      "text/plain": [
       "False"
      ]
     },
     "execution_count": 63,
     "metadata": {},
     "output_type": "execute_result"
    }
   ],
   "source": [
    "value = 0\n",
    "bool(value)"
   ]
  },
  {
   "cell_type": "code",
   "execution_count": 70,
   "metadata": {},
   "outputs": [
    {
     "name": "stdout",
     "output_type": "stream",
     "text": [
      "False\n"
     ]
    },
    {
     "data": {
      "text/plain": [
       "0"
      ]
     },
     "execution_count": 70,
     "metadata": {},
     "output_type": "execute_result"
    }
   ],
   "source": [
    "queue = deque(maxlen = 5)\n",
    "print(bool(queue))\n",
    "len(queue)"
   ]
  },
  {
   "cell_type": "markdown",
   "metadata": {},
   "source": [
    "###### Leetcode 641"
   ]
  },
  {
   "cell_type": "code",
   "execution_count": 151,
   "metadata": {},
   "outputs": [],
   "source": [
    "class MyCircularDeque:\n",
    "    from collections import deque\n",
    "    def __init__(self, k: int):\n",
    "        \"\"\"\n",
    "        Initialize your data structure here. Set the size of the deque to be k.\n",
    "        \"\"\"\n",
    "        self.k = k\n",
    "        self.queue = deque(maxlen=k)\n",
    "       \n",
    "\n",
    "    def insertFront(self, value: int) -> bool:\n",
    "        \"\"\"\n",
    "        Adds an item at the front of Deque. Return true if the operation is successful.\n",
    "        \"\"\"\n",
    "        # if the queue is full\n",
    "        if len(self.queue) >= self.k:\n",
    "            return False\n",
    "        self.value = value\n",
    "        if self.queue:\n",
    "            # if the value is not None or value equal to 0 (value to be a number), we append at the left\n",
    "            if self.value or self.value == 0: \n",
    "                prev_first = self.queue[0]\n",
    "                self.queue.appendleft(self.value)\n",
    "                return self.queue[1] == prev_first\n",
    "            else:\n",
    "                return False\n",
    "        else:\n",
    "            if self.value or self.value == 0:\n",
    "                self.queue.append(self.value)\n",
    "                return len(self.queue) == 1\n",
    "            else:return False\n",
    "            \n",
    "        # if not self.value:\n",
    "        #     return False\n",
    "        # elif self.value: \n",
    "        #     self.queue.appendleft(self.value)\n",
    "        #     return self.queue[0] == self.value\n",
    "        \n",
    "\n",
    "    def insertLast(self, value: int) -> bool:\n",
    "        \"\"\"\n",
    "        Adds an item at the rear of Deque. Return true if the operation is successful.\n",
    "        \"\"\"\n",
    "        if len(self.queue) >= self.k:\n",
    "            return False\n",
    "        self.value = value\n",
    "        if self.queue:\n",
    "            # if the value is not None or value equal to 0 (value to be a number), we append the value at right\n",
    "            if self.value or self.value == 0:\n",
    "                prev_last = self.queue[-1]\n",
    "                self.queue.append(self.value)\n",
    "                return self.queue[-2] == prev_last\n",
    "            else: return False\n",
    "        else:\n",
    "            if self.value or self.value == 0:\n",
    "                self.queue.append(self.value)\n",
    "                return len(self.queue) == 1\n",
    "            else: return False\n",
    "            \n",
    "        # if not self.value:\n",
    "        #     return False\n",
    "        # elif self.value: \n",
    "        #     self.queue.append(self.value)\n",
    "        #     return self.queue[-1] == self.value\n",
    "        \n",
    "\n",
    "    def deleteFront(self) -> bool:\n",
    "        \"\"\"\n",
    "        Deletes an item from the front of Deque. Return true if the operation is successful.\n",
    "        \"\"\"\n",
    "        if len(self.queue) > 1:\n",
    "            second = self.queue[1]\n",
    "            self.queue.popleft()\n",
    "            if self.queue[0] == second:\n",
    "                return True\n",
    "        elif len(self.queue) == 1:\n",
    "            del self.queue[0]\n",
    "            return len(self.queue) == 0\n",
    "        else: return False\n",
    "                \n",
    "        \n",
    "\n",
    "    def deleteLast(self) -> bool:\n",
    "        \"\"\"\n",
    "        Deletes an item from the rear of Deque. Return true if the operation is successful.\n",
    "        \"\"\"\n",
    "        if len(self.queue) > 1:\n",
    "            sec_last = self.queue[-2]\n",
    "            del self.queue[-1]\n",
    "            if self.queue[-1] == sec_last:\n",
    "                return True\n",
    "        elif len(self.queue) == 1:\n",
    "                del self.queue[-1]\n",
    "                return len(self.queue) == 0\n",
    "        else: return False\n",
    "\n",
    "    def getFront(self) -> int:\n",
    "        \"\"\"\n",
    "        Get the front item from the deque.\n",
    "        \"\"\"\n",
    "        if len(self.queue) == 0:\n",
    "            return -1\n",
    "        return self.queue[0]\n",
    "\n",
    "    def getRear(self) -> int:\n",
    "        \"\"\"\n",
    "        Get the last item from the deque.\n",
    "        \"\"\"\n",
    "        if len(self.queue) == 0:\n",
    "            return -1\n",
    "        return self.queue[-1]\n",
    "\n",
    "    def isEmpty(self) -> bool:\n",
    "        \"\"\"\n",
    "        Checks whether the circular deque is empty or not.\n",
    "        \"\"\"\n",
    "        if len(self.queue) == 0:\n",
    "            return True\n",
    "        return False\n",
    "\n",
    "    def isFull(self) -> bool:\n",
    "        \"\"\"\n",
    "        Checks whether the circular deque is full or not.\n",
    "        \"\"\"\n",
    "        if len(self.queue) >= self.k:\n",
    "            return True\n",
    "        return False\n",
    "\n",
    "\n",
    "# Your MyCircularDeque object will be instantiated and called as such:\n",
    "# obj = MyCircularDeque(k)\n",
    "# param_1 = obj.insertFront(value)\n",
    "# param_2 = obj.insertLast(value)\n",
    "# param_3 = obj.deleteFront()\n",
    "# param_4 = obj.deleteLast()\n",
    "# param_5 = obj.getFront()\n",
    "# param_6 = obj.getRear()\n",
    "# param_7 = obj.isEmpty()\n",
    "# param_8 = obj.isFull()"
   ]
  },
  {
   "cell_type": "code",
   "execution_count": null,
   "metadata": {},
   "outputs": [],
   "source": []
  },
  {
   "cell_type": "markdown",
   "metadata": {},
   "source": [
    "###### Leetcode 622"
   ]
  },
  {
   "cell_type": "code",
   "execution_count": 150,
   "metadata": {},
   "outputs": [],
   "source": [
    "class MyCircularQueue:\n",
    "\n",
    "    def __init__(self, k: int):\n",
    "        self.k = k\n",
    "        self.queue = [None] * k\n",
    "        self.head = 0\n",
    "        self.tail = 0\n",
    "        self.empty = True\n",
    "        self.full = False\n",
    "\n",
    "    def enQueue(self, value: int) -> bool:\n",
    "        # if the queue is full\n",
    "        if self.isFull(): \n",
    "            return False\n",
    "        #add the value to the end of the queue\n",
    "        self.queue[self.tail] = value\n",
    "        # the end of the queue index moves to the next.\n",
    "        self.tail = (self.tail + 1) % self.k\n",
    "        # if the head and tail point to one place: it is full\n",
    "        if self.head == self.tail:\n",
    "            self.full = True\n",
    "        else:\n",
    "            self.full = False\n",
    "        # if a queue is full, it cannot be null.\n",
    "        self.empty = False\n",
    "        return True\n",
    "\n",
    "    def deQueue(self) -> bool:\n",
    "        # codition for empty queue \n",
    "        if self.isEmpty(): \n",
    "            return False\n",
    "        self.head = (self.head + 1) % self.k\n",
    "        if self.head == self.tail:\n",
    "            self.empty = True \n",
    "        else:\n",
    "            self.empty = False\n",
    "        self.full = False\n",
    "        return True\n",
    "\n",
    "\n",
    "    def Front(self) -> int:\n",
    "        if self.isEmpty(): \n",
    "            return -1\n",
    "        return self.queue[self.head]\n",
    "\n",
    "    def Rear(self) -> int:\n",
    "        if self.isEmpty(): \n",
    "            return -1\n",
    "        # if an element is added to the queue, the pointer index moves to the next. we always want the last ..\n",
    "        # .. element before we mov to the next one. So we always output the previous value.\n",
    "        return self.queue[(self.tail - 1) % self.k]\n",
    "\n",
    "    def isEmpty(self) -> bool:\n",
    "        return self.empty\n",
    "    \n",
    "    def isFull(self) -> bool:\n",
    "        return self.full\n",
    "\n",
    "\n",
    "# Your MyCircularQueue object will be instantiated and called as such:\n",
    "# obj = MyCircularQueue(k)\n",
    "# param_1 = obj.enQueue(value)\n",
    "# param_2 = obj.deQueue()\n",
    "# param_3 = obj.Front()\n",
    "# param_4 = obj.Rear()\n",
    "# param_5 = obj.isEmpty()\n",
    "# param_6 = obj.isFull()"
   ]
  },
  {
   "cell_type": "markdown",
   "metadata": {},
   "source": [
    "###### Leetcode 621"
   ]
  },
  {
   "cell_type": "code",
   "execution_count": null,
   "metadata": {},
   "outputs": [],
   "source": [
    "import heapq\n",
    "from collections import Counter\n",
    "\n",
    "\n",
    "def leastInterval(tasks, n):\n",
    "        \n",
    "    # Each entry in the queue is of the form (priority, task_id)\n",
    "    task_queue = [(-1*task_freq, task_id)\n",
    "                    for task_id, task_freq in Counter(tasks).items()]\n",
    "        \n",
    "    heapq.heapify(task_queue)\n",
    "        \n",
    "    elapsed_time = 0\n",
    "        \n",
    "    while task_queue:\n",
    "            \n",
    "        cool_down_timer = 0\n",
    "            \n",
    "        # Temporary queue will store tasks which need additional CPU hours to finish\n",
    "        # but they cannot be processed in the current cool down period.\n",
    "        temporary_queue = []\n",
    "            \n",
    "        # Before processing the next task start the cool down timer.\n",
    "        while cool_down_timer <= n:\n",
    "                \n",
    "            elapsed_time += 1\n",
    "                \n",
    "            if task_queue:\n",
    "                # Pop the task which requires the most CPU hours, pop the first item in the queue. First in First out\n",
    "                task_priority, task_id = heapq.heappop(task_queue)\n",
    "#                 print(task_queue)\n",
    "                    \n",
    "                if task_priority < - 1:\n",
    "                    # If the popped task needs more CPU hours, we will \n",
    "                    # add it to our temporary queue. This task will never be processed \n",
    "                    # again in the current cool down period.  \n",
    "                    temporary_queue.append((task_priority + 1, task_id)) #minus one times -5+1 = -4 e.p.\n",
    "#                     print(temporary_queue)\n",
    "                \n",
    "            if not task_queue and not temporary_queue:\n",
    "                # This can happen if the task_queue had 1 task [(-1, 'A')] and we processed\n",
    "                # it in the current cool down period and have nothing else to process\n",
    "                break\n",
    "            else:\n",
    "                cool_down_timer += 1\n",
    "                print(cool_down_timer)\n",
    "            \n",
    "        # The cool down timer has timed out. Add the tasks in temporary queue \n",
    "        # to our task queue. \n",
    "        for task in temporary_queue:\n",
    "            heapq.heappush(task_queue, task)\n",
    "            print(task_queue)\n",
    "        \n",
    "    return elapsed_time\n",
    "    \n",
    "task = [\"A\",\"A\",\"A\",\"A\",\"A\",\"A\",\"B\",\"B\",\"C\",\"D\",\"E\",\"F\",\"G\"]\n",
    "leastInterval(task, 2)"
   ]
  },
  {
   "cell_type": "code",
   "execution_count": null,
   "metadata": {},
   "outputs": [],
   "source": [
    "from collections import Counter\n",
    "import heapq\n",
    "tasks = [\"A\",\"A\",\"A\",\"A\",\"A\",\"A\",\"B\",\"B\",\"C\",\"D\",\"E\",\"F\",\"G\"]\n",
    "task_queue = [(-1*task_freq, task_id) for task_id, task_freq in Counter(tasks).items()]\n",
    "pop = heapq.heappop(task_queue)\n",
    "print(pop)\n",
    "print(task_queue)\n",
    "print(heapq.heapify(task_queue))"
   ]
  },
  {
   "cell_type": "code",
   "execution_count": null,
   "metadata": {},
   "outputs": [],
   "source": []
  },
  {
   "cell_type": "code",
   "execution_count": null,
   "metadata": {},
   "outputs": [],
   "source": []
  },
  {
   "cell_type": "code",
   "execution_count": null,
   "metadata": {},
   "outputs": [],
   "source": []
  },
  {
   "cell_type": "code",
   "execution_count": null,
   "metadata": {},
   "outputs": [],
   "source": []
  },
  {
   "cell_type": "code",
   "execution_count": null,
   "metadata": {},
   "outputs": [],
   "source": []
  }
 ],
 "metadata": {
  "kernelspec": {
   "display_name": "Python 3",
   "language": "python",
   "name": "python3"
  },
  "language_info": {
   "codemirror_mode": {
    "name": "ipython",
    "version": 3
   },
   "file_extension": ".py",
   "mimetype": "text/x-python",
   "name": "python",
   "nbconvert_exporter": "python",
   "pygments_lexer": "ipython3",
   "version": "3.8.3"
  }
 },
 "nbformat": 4,
 "nbformat_minor": 4
}
